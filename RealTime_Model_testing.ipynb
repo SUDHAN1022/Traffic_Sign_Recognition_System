{
  "nbformat": 4,
  "nbformat_minor": 0,
  "metadata": {
    "colab": {
      "provenance": []
    },
    "kernelspec": {
      "name": "python3",
      "display_name": "Python 3"
    },
    "language_info": {
      "name": "python"
    }
  },
  "cells": [
    {
      "cell_type": "code",
      "source": [
        "pip install tensorflow==1.15.0"
      ],
      "metadata": {
        "colab": {
          "base_uri": "https://localhost:8080/"
        },
        "id": "Dz3PZ4tN8P2l",
        "outputId": "1de87380-419a-42e9-d5d0-806c49c947e8"
      },
      "execution_count": 1,
      "outputs": [
        {
          "output_type": "stream",
          "name": "stdout",
          "text": [
            "Looking in indexes: https://pypi.org/simple, https://us-python.pkg.dev/colab-wheels/public/simple/\n",
            "Collecting tensorflow==1.15.0\n",
            "  Downloading tensorflow-1.15.0-cp37-cp37m-manylinux2010_x86_64.whl (412.3 MB)\n",
            "\u001b[K     |████████████████████████████████| 412.3 MB 27 kB/s \n",
            "\u001b[?25hRequirement already satisfied: google-pasta>=0.1.6 in /usr/local/lib/python3.7/dist-packages (from tensorflow==1.15.0) (0.2.0)\n",
            "Requirement already satisfied: astor>=0.6.0 in /usr/local/lib/python3.7/dist-packages (from tensorflow==1.15.0) (0.8.1)\n",
            "Collecting tensorboard<1.16.0,>=1.15.0\n",
            "  Downloading tensorboard-1.15.0-py3-none-any.whl (3.8 MB)\n",
            "\u001b[K     |████████████████████████████████| 3.8 MB 56.7 MB/s \n",
            "\u001b[?25hRequirement already satisfied: protobuf>=3.6.1 in /usr/local/lib/python3.7/dist-packages (from tensorflow==1.15.0) (3.19.6)\n",
            "Requirement already satisfied: grpcio>=1.8.6 in /usr/local/lib/python3.7/dist-packages (from tensorflow==1.15.0) (1.50.0)\n",
            "Requirement already satisfied: keras-preprocessing>=1.0.5 in /usr/local/lib/python3.7/dist-packages (from tensorflow==1.15.0) (1.1.2)\n",
            "Requirement already satisfied: six>=1.10.0 in /usr/local/lib/python3.7/dist-packages (from tensorflow==1.15.0) (1.15.0)\n",
            "Requirement already satisfied: numpy<2.0,>=1.16.0 in /usr/local/lib/python3.7/dist-packages (from tensorflow==1.15.0) (1.21.6)\n",
            "Requirement already satisfied: opt-einsum>=2.3.2 in /usr/local/lib/python3.7/dist-packages (from tensorflow==1.15.0) (3.3.0)\n",
            "Requirement already satisfied: absl-py>=0.7.0 in /usr/local/lib/python3.7/dist-packages (from tensorflow==1.15.0) (1.3.0)\n",
            "Collecting keras-applications>=1.0.8\n",
            "  Downloading Keras_Applications-1.0.8-py3-none-any.whl (50 kB)\n",
            "\u001b[K     |████████████████████████████████| 50 kB 6.5 MB/s \n",
            "\u001b[?25hCollecting gast==0.2.2\n",
            "  Downloading gast-0.2.2.tar.gz (10 kB)\n",
            "Requirement already satisfied: termcolor>=1.1.0 in /usr/local/lib/python3.7/dist-packages (from tensorflow==1.15.0) (2.1.0)\n",
            "Requirement already satisfied: wheel>=0.26 in /usr/local/lib/python3.7/dist-packages (from tensorflow==1.15.0) (0.38.3)\n",
            "Collecting tensorflow-estimator==1.15.1\n",
            "  Downloading tensorflow_estimator-1.15.1-py2.py3-none-any.whl (503 kB)\n",
            "\u001b[K     |████████████████████████████████| 503 kB 48.8 MB/s \n",
            "\u001b[?25hRequirement already satisfied: wrapt>=1.11.1 in /usr/local/lib/python3.7/dist-packages (from tensorflow==1.15.0) (1.14.1)\n",
            "Requirement already satisfied: h5py in /usr/local/lib/python3.7/dist-packages (from keras-applications>=1.0.8->tensorflow==1.15.0) (3.1.0)\n",
            "Requirement already satisfied: setuptools>=41.0.0 in /usr/local/lib/python3.7/dist-packages (from tensorboard<1.16.0,>=1.15.0->tensorflow==1.15.0) (57.4.0)\n",
            "Requirement already satisfied: werkzeug>=0.11.15 in /usr/local/lib/python3.7/dist-packages (from tensorboard<1.16.0,>=1.15.0->tensorflow==1.15.0) (1.0.1)\n",
            "Requirement already satisfied: markdown>=2.6.8 in /usr/local/lib/python3.7/dist-packages (from tensorboard<1.16.0,>=1.15.0->tensorflow==1.15.0) (3.4.1)\n",
            "Requirement already satisfied: importlib-metadata>=4.4 in /usr/local/lib/python3.7/dist-packages (from markdown>=2.6.8->tensorboard<1.16.0,>=1.15.0->tensorflow==1.15.0) (4.13.0)\n",
            "Requirement already satisfied: typing-extensions>=3.6.4 in /usr/local/lib/python3.7/dist-packages (from importlib-metadata>=4.4->markdown>=2.6.8->tensorboard<1.16.0,>=1.15.0->tensorflow==1.15.0) (4.1.1)\n",
            "Requirement already satisfied: zipp>=0.5 in /usr/local/lib/python3.7/dist-packages (from importlib-metadata>=4.4->markdown>=2.6.8->tensorboard<1.16.0,>=1.15.0->tensorflow==1.15.0) (3.10.0)\n",
            "Requirement already satisfied: cached-property in /usr/local/lib/python3.7/dist-packages (from h5py->keras-applications>=1.0.8->tensorflow==1.15.0) (1.5.2)\n",
            "Building wheels for collected packages: gast\n",
            "  Building wheel for gast (setup.py) ... \u001b[?25l\u001b[?25hdone\n",
            "  Created wheel for gast: filename=gast-0.2.2-py3-none-any.whl size=7554 sha256=22e7e54ab1ae1238e4ac852e4b9ec9c19ab081482523375a9d2aba7da333df8f\n",
            "  Stored in directory: /root/.cache/pip/wheels/21/7f/02/420f32a803f7d0967b48dd823da3f558c5166991bfd204eef3\n",
            "Successfully built gast\n",
            "Installing collected packages: tensorflow-estimator, tensorboard, keras-applications, gast, tensorflow\n",
            "  Attempting uninstall: tensorflow-estimator\n",
            "    Found existing installation: tensorflow-estimator 2.9.0\n",
            "    Uninstalling tensorflow-estimator-2.9.0:\n",
            "      Successfully uninstalled tensorflow-estimator-2.9.0\n",
            "  Attempting uninstall: tensorboard\n",
            "    Found existing installation: tensorboard 2.9.1\n",
            "    Uninstalling tensorboard-2.9.1:\n",
            "      Successfully uninstalled tensorboard-2.9.1\n",
            "  Attempting uninstall: gast\n",
            "    Found existing installation: gast 0.4.0\n",
            "    Uninstalling gast-0.4.0:\n",
            "      Successfully uninstalled gast-0.4.0\n",
            "  Attempting uninstall: tensorflow\n",
            "    Found existing installation: tensorflow 2.9.2\n",
            "    Uninstalling tensorflow-2.9.2:\n",
            "      Successfully uninstalled tensorflow-2.9.2\n",
            "\u001b[31mERROR: pip's dependency resolver does not currently take into account all the packages that are installed. This behaviour is the source of the following dependency conflicts.\n",
            "tensorflow-probability 0.17.0 requires gast>=0.3.2, but you have gast 0.2.2 which is incompatible.\n",
            "kapre 0.3.7 requires tensorflow>=2.0.0, but you have tensorflow 1.15.0 which is incompatible.\u001b[0m\n",
            "Successfully installed gast-0.2.2 keras-applications-1.0.8 tensorboard-1.15.0 tensorflow-1.15.0 tensorflow-estimator-1.15.1\n"
          ]
        }
      ]
    },
    {
      "cell_type": "code",
      "source": [
        "import numpy as np\n",
        "import pandas as pd\n",
        "import os\n",
        "import cv2\n",
        "import matplotlib.pyplot as plt\n",
        "import tensorflow as tf\n",
        "from tensorflow import keras\n",
        "from PIL import Image\n",
        "from sklearn.model_selection import train_test_split\n",
        "from tensorflow.keras.preprocessing.image import ImageDataGenerator\n",
        "from tensorflow.keras.optimizers import Adam\n",
        "from sklearn.metrics import accuracy_score"
      ],
      "metadata": {
        "id": "aCsUTYiN8UTp"
      },
      "execution_count": 1,
      "outputs": []
    },
    {
      "cell_type": "code",
      "execution_count": 3,
      "metadata": {
        "colab": {
          "base_uri": "https://localhost:8080/",
          "height": 572
        },
        "id": "ljtw-Wuj8A5n",
        "outputId": "cb1bcae7-56b1-4872-ec54-57e542536eed"
      },
      "outputs": [
        {
          "output_type": "stream",
          "name": "stdout",
          "text": [
            "Looking in indexes: https://pypi.org/simple, https://us-python.pkg.dev/colab-wheels/public/simple/\n",
            "Collecting h5py==2.10.0\n",
            "  Downloading h5py-2.10.0-cp37-cp37m-manylinux1_x86_64.whl (2.9 MB)\n",
            "\u001b[K     |████████████████████████████████| 2.9 MB 13.8 MB/s \n",
            "\u001b[?25hCollecting six\n",
            "  Downloading six-1.16.0-py2.py3-none-any.whl (11 kB)\n",
            "Collecting numpy>=1.7\n",
            "  Downloading numpy-1.21.6-cp37-cp37m-manylinux_2_12_x86_64.manylinux2010_x86_64.whl (15.7 MB)\n",
            "\u001b[K     |████████████████████████████████| 15.7 MB 54.9 MB/s \n",
            "\u001b[?25hInstalling collected packages: six, numpy, h5py\n",
            "  Attempting uninstall: six\n",
            "    Found existing installation: six 1.15.0\n",
            "    Uninstalling six-1.15.0:\n",
            "      Successfully uninstalled six-1.15.0\n",
            "  Attempting uninstall: numpy\n",
            "    Found existing installation: numpy 1.21.6\n",
            "    Uninstalling numpy-1.21.6:\n",
            "      Successfully uninstalled numpy-1.21.6\n",
            "  Attempting uninstall: h5py\n",
            "    Found existing installation: h5py 3.1.0\n",
            "    Uninstalling h5py-3.1.0:\n",
            "      Successfully uninstalled h5py-3.1.0\n",
            "\u001b[31mERROR: pip's dependency resolver does not currently take into account all the packages that are installed. This behaviour is the source of the following dependency conflicts.\n",
            "ipython 7.9.0 requires jedi>=0.10, which is not installed.\n",
            "tensorflow-probability 0.17.0 requires gast>=0.3.2, but you have gast 0.2.2 which is incompatible.\n",
            "kapre 0.3.7 requires tensorflow>=2.0.0, but you have tensorflow 1.15.0 which is incompatible.\u001b[0m\n",
            "Successfully installed h5py-2.10.0 numpy-1.21.6 six-1.16.0\n"
          ]
        },
        {
          "output_type": "display_data",
          "data": {
            "application/vnd.colab-display-data+json": {
              "pip_warning": {
                "packages": [
                  "h5py",
                  "numpy",
                  "six"
                ]
              }
            }
          },
          "metadata": {}
        }
      ],
      "source": [
        "pip install 'h5py==2.10.0' --force-reinstall"
      ]
    },
    {
      "cell_type": "code",
      "source": [
        "from google.colab import drive\n",
        "drive.mount('/content/drive')"
      ],
      "metadata": {
        "colab": {
          "base_uri": "https://localhost:8080/"
        },
        "id": "-tKU3N-y8Yhh",
        "outputId": "18ca09d7-cf4e-4553-e934-7d8e7a7a6b7f"
      },
      "execution_count": 2,
      "outputs": [
        {
          "output_type": "stream",
          "name": "stdout",
          "text": [
            "Drive already mounted at /content/drive; to attempt to forcibly remount, call drive.mount(\"/content/drive\", force_remount=True).\n"
          ]
        }
      ]
    },
    {
      "cell_type": "code",
      "source": [
        "Root = \"/content/drive/MyDrive/Deep_learning/Traffic_sign_classification\"\n",
        "os.chdir(Root)"
      ],
      "metadata": {
        "id": "l1ntfGRQ8bQX"
      },
      "execution_count": 3,
      "outputs": []
    },
    {
      "cell_type": "code",
      "source": [
        "classes = [ 'Speed limit (20km/h)',\n",
        "            'Speed limit (30km/h)', \n",
        "            'Speed limit (50km/h)', \n",
        "            'Speed limit (60km/h)', \n",
        "            'Speed limit (70km/h)', \n",
        "            'Speed limit (80km/h)', \n",
        "            'End of speed limit (80km/h)', \n",
        "            'Speed limit (100km/h)', \n",
        "            'Speed limit (120km/h)', \n",
        "            'No passing', \n",
        "            'No passing veh over 3.5 tons', \n",
        "            'Right-of-way at intersection', \n",
        "            'Priority road', \n",
        "            'Yield', \n",
        "            'Stop', \n",
        "            'No vehicles', \n",
        "            'Veh > 3.5 tons prohibited', \n",
        "            'No entry', \n",
        "            'General caution', \n",
        "            'Dangerous curve left', \n",
        "            'Dangerous curve right', \n",
        "            'Double curve', \n",
        "            'Bumpy road', \n",
        "            'Slippery road', \n",
        "            'Road narrows on the right', \n",
        "            'Road work', \n",
        "            'Traffic signals', \n",
        "            'Pedestrians', \n",
        "            'Children crossing', \n",
        "            'Bicycles crossing', \n",
        "            'Beware of ice/snow',\n",
        "            'Wild animals crossing', \n",
        "            'End speed + passing limits', \n",
        "            'Turn right ahead', \n",
        "            'Turn left ahead', \n",
        "            'Ahead only', \n",
        "            'Go straight or right', \n",
        "            'Go straight or left', \n",
        "            'Keep right', \n",
        "            'Keep left', \n",
        "            'Roundabout mandatory', \n",
        "            'End of no passing', \n",
        "            'End no passing veh > 3.5 tons' ]"
      ],
      "metadata": {
        "id": "OmNDAb5c90xO"
      },
      "execution_count": 7,
      "outputs": []
    },
    {
      "cell_type": "code",
      "source": [
        "def check(speed,result):\n",
        "  if result in [0,1,2,3,4,5,6,7,8]:\n",
        "    if result == 0:\n",
        "      if speed > 20:\n",
        "        print('Slow down Speed limit 20Km/h')\n",
        "    elif result == 1:\n",
        "      if speed > 30:\n",
        "        print('Slow down Speed limit 30Km/h')\n",
        "    elif result == 2:\n",
        "      if speed > 50:\n",
        "        print('Slow down Speed limit 50Km/h')\n",
        "    elif result == 3:\n",
        "      if speed > 60:\n",
        "        print('Slow down Speed limit 60Km/h')\n",
        "    elif result == 4:\n",
        "      if speed > 70:\n",
        "        print('Slow down Speed limit 70Km/h')\n",
        "    elif result == 5:\n",
        "      if speed > 80:\n",
        "        print('Slow down Speed limit 80Km/h')\n",
        "    elif result == 6:\n",
        "      if speed > 80:\n",
        "        print('Slow down Speed limit 80Km/h')\n",
        "    elif result == 7:\n",
        "      if speed > 100:\n",
        "        print('Slow down Speed limit 100Km/h')\n",
        "    elif result == 8:\n",
        "      if speed > 120:\n",
        "        print('Slow down Speed limit 120Km/h')"
      ],
      "metadata": {
        "id": "UbtkDQ5n_qlo"
      },
      "execution_count": 17,
      "outputs": []
    },
    {
      "cell_type": "code",
      "source": [
        "def identify(img):\n",
        "  model_path = \"model_krizz_4.h5\"\n",
        "  loaded_model = tf.keras.models.load_model(model_path)\n",
        "\n",
        "  import matplotlib.pyplot as plt\n",
        "  import numpy as np\n",
        "  image = img\n",
        "  image_fromarray = Image.fromarray(image, 'RGB')\n",
        "  resize_image = image_fromarray.resize((30, 30))\n",
        "  expand_input = np.expand_dims(resize_image,axis=0)\n",
        "  input_data = np.array(expand_input)\n",
        "  input_data = input_data/255\n",
        "\n",
        "  pred = loaded_model.predict(input_data)\n",
        "  result = pred.argmax()\n",
        "  print('\"' + classes[result] + '\" sign detected')\n",
        "  return(result)"
      ],
      "metadata": {
        "id": "svGYcRgg8G5L"
      },
      "execution_count": 24,
      "outputs": []
    },
    {
      "cell_type": "code",
      "source": [
        "# import the opencv library\n",
        "import cv2\n",
        "  \n",
        "  \n",
        "# define a video capture object\n",
        "cam = cv2.VideoCapture(0)\n",
        "  \n",
        "while(True):\n",
        "      \n",
        "    # Capture the video frame\n",
        "    # by frame\n",
        "    res, image = cam.read()\n",
        "    cv2.imshow('frame', image)\n",
        "    # Display the resulting frame\n",
        "    image_fromarray = Image.fromarray(image, 'RGB')\n",
        "    resize_image = image_fromarray.resize((30, 30))\n",
        "    expand_input = np.expand_dims(resize_image,axis=0)\n",
        "    input_data = np.array(expand_input)\n",
        "    input_data = input_data/255\n",
        "\n",
        "    pred = loaded_model.predict(input_data)\n",
        "    result = pred.argmax()\n",
        "    print(result)\n",
        "    if cv2.waitKey(1) & 0xFF == ord('q'):\n",
        "      break\n",
        "    # the 'q' button is set as the\n",
        "    # quitting button you may use any\n",
        "    # desired button of your choice\n",
        "  \n",
        "# After the loop release the cap object\n",
        "cam.release()\n",
        "# Destroy all the windows\n",
        "cam.destroyAllWindows()"
      ],
      "metadata": {
        "id": "t8WjoPYb8G1y"
      },
      "execution_count": null,
      "outputs": []
    },
    {
      "cell_type": "code",
      "source": [
        "speed = int(input(\"Enter your current speed :\"))\n",
        "#image = cv2.imread(\"download.jpg\")\n",
        "image = cv2.imread('speed-limit-sign-at-20kmh.png')\n",
        "result = identify(image)\n",
        "check (speed,result)"
      ],
      "metadata": {
        "colab": {
          "base_uri": "https://localhost:8080/"
        },
        "id": "yq4Oe525B8Or",
        "outputId": "84b122e7-4280-493c-f20e-abd624d53d59"
      },
      "execution_count": 23,
      "outputs": [
        {
          "output_type": "stream",
          "name": "stdout",
          "text": [
            "Enter your current speed :100\n",
            "\"Speed limit (20km/h)\" sign detected\n",
            "Slow down Speed limit 20Km/h\n"
          ]
        }
      ]
    },
    {
      "cell_type": "code",
      "source": [],
      "metadata": {
        "id": "TuEs71T7_bzE"
      },
      "execution_count": null,
      "outputs": []
    }
  ]
}